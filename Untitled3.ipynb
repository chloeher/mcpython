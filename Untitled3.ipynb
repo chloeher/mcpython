{
 "cells": [
  {
   "cell_type": "code",
   "execution_count": 10,
   "id": "dcb7f4f9",
   "metadata": {},
   "outputs": [
    {
     "name": "stdout",
     "output_type": "stream",
     "text": [
      "Seoul:\n",
      "\tcountry: South Korea\n",
      "\tpopulation: 9.7 million\n",
      "\tfact: Its official name is Seoul Special City.\n",
      "Athens:\n",
      "\tcountry: Greece\n",
      "\tpopulation: 3.1 million\n",
      "\tfact: It was the birthplace of democracy.\n",
      "Istanbul:\n",
      "\tcountry: Turkey\n",
      "\tpopulation: 15.5 million\n",
      "\tfact: While not the capital, Istanbul is Turkey's largest city with more than 13 million people.\n"
     ]
    }
   ],
   "source": [
    "#Python Programming Exercises 2\n",
    "\n",
    "#Cities aa bb\n",
    "#Make a dictionary called \"cities\". Use the names of three cities as keys in your dictionary.\n",
    "#Create a nested dictionary of information about each city and include the country that the city is\n",
    "#in, its approximate population, and one fact about that city. The keys for each city's dictionary\n",
    "#should be something like \"country\", \"population\", and \"fact\". Print the name of each city and all\n",
    "#of the information you have stored about it.\n",
    "\n",
    "# Create a dictionary called \"cities\"\n",
    "cities = {\n",
    "    \"Seoul\": {\n",
    "        \"country\": \"South Korea\",\n",
    "        \"population\": f\"{9.7} million\",\n",
    "        \"fact\": \"Its official name is Seoul Special City.\"\n",
    "    },\n",
    "    \"Athens\": {\n",
    "        \"country\": \"Greece\",\n",
    "        \"population\": f\"{3.1} million\",\n",
    "        \"fact\": \"It was the birthplace of democracy.\"\n",
    "    },\n",
    "    \"Istanbul\": {\n",
    "        \"country\": \"Turkey\",\n",
    "        \"population\": f\"{15.5} million\",\n",
    "        \"fact\": \"While not the capital, Istanbul is Turkey's largest city with more than 13 million people.\"\n",
    "    }\n",
    "}\n",
    "\n",
    "# Print the name of each city and all of the information about it\n",
    "for city, info in cities.items():\n",
    "    print(f\"{city}:\")\n",
    "    for key, value in info.items():\n",
    "        print(f\"\\t{key}: {value}\")\n"
   ]
  },
  {
   "cell_type": "code",
   "execution_count": 11,
   "id": "40fbdbc0",
   "metadata": {},
   "outputs": [
    {
     "name": "stdout",
     "output_type": "stream",
     "text": [
      "The Nile runs through Egypt.\n",
      "The Amazon runs through Brazil.\n",
      "The Yangtze runs through China.\n",
      "Rivers:\n",
      "\tNile\n",
      "\tAmazon\n",
      "\tYangtze\n",
      "Countries:\n",
      "\tEgypt\n",
      "\tBrazil\n",
      "\tChina\n"
     ]
    }
   ],
   "source": [
    "#Python Programming Exercise 2\n",
    "\n",
    "#Make a dictionary containing three major rivers and the country each river runs through. One\n",
    "#key-value pair might be \"nile\" : \"egypt\" .\n",
    "#● Use a loop to print a sentence about each river, such as \"The Nile runs through Egypt.\"\n",
    "#● Use a loop to print the name of each river included in the dictionary.\n",
    "#● Use a loop to print the name of each country included in the dictionary.\n",
    "\n",
    "# Create a dictionary of major rivers and the countries they run through\n",
    "rivers = {\n",
    "    \"Nile\": \"Egypt\",\n",
    "    \"Amazon\": \"Brazil\",\n",
    "    \"Yangtze\": \"China\"\n",
    "}\n",
    "\n",
    "# Print a sentence about each river\n",
    "for river, country in rivers.items():\n",
    "    print(f\"The {river} runs through {country}.\")\n",
    "\n",
    "# Print the name of each river\n",
    "print(\"Rivers:\")\n",
    "for river in rivers.keys():\n",
    "    print(f\"\\t{river}\")\n",
    "\n",
    "# Print the name of each country\n",
    "print(\"Countries:\")\n",
    "for country in rivers.values():\n",
    "    print(f\"\\t{country}\")\n"
   ]
  },
  {
   "cell_type": "code",
   "execution_count": 1,
   "id": "3f8585bd",
   "metadata": {},
   "outputs": [
    {
     "name": "stdout",
     "output_type": "stream",
     "text": [
      "Hi, I'm Eliza. What is your problem today?\n",
      "Why do you say that you are good?\n"
     ]
    }
   ],
   "source": [
    "# Define a list of greetings for the bot to recognize\n",
    "\n",
    "# Define a dictionary of replacement patterns\n",
    "patterns = {\n",
    "    \"i\": \"you\",\n",
    "    \"me\": \"you\",\n",
    "    \"my\": \"your\",\n",
    "    \"am\": \"are\"\n",
    "}\n",
    "\n",
    "# Define a function to perform the replacements\n",
    "def replace_words(string, patterns):\n",
    "    words = string.split()\n",
    "    for i in range(len(words)):\n",
    "        word = words[i]\n",
    "        if word in patterns:\n",
    "            words[i] = patterns[word]\n",
    "    return \" \".join(words)\n",
    "\n",
    "# Define the main function of the chat-bot\n",
    "def eliza():\n",
    "    print(\"Hi, I'm Eliza. What is your problem today?\")\n",
    "    \n",
    "    while True:\n",
    "        user_input = input(\"> \").lower()\n",
    "        if user_input == \"stop\":\n",
    "            break\n",
    "        response = replace_words(user_input, patterns)\n",
    "        response = f\"Why do you say that {response}?\"\n",
    "        print(response)\n",
    "    \n",
    "\n",
    "# Call the main function to start the chat-bot\n",
    "eliza()\n"
   ]
  },
  {
   "cell_type": "code",
   "execution_count": 1,
   "id": "924ff1d5",
   "metadata": {},
   "outputs": [
    {
     "name": "stdout",
     "output_type": "stream",
     "text": [
      "['i', 'am', 'sick']\n",
      "['you', 'are', 'sick']\n",
      "you are sick\n"
     ]
    }
   ],
   "source": [
    "patterns = {\n",
    "    \"i\": \"you\",\n",
    "    \"me\": \"you\",\n",
    "    \"my\": \"your\",\n",
    "    \"am\": \"are\"}\n",
    "string = \"i am sick\"\n",
    "words = string.split()\n",
    "print(words)\n",
    "for i in range(len(words)):\n",
    "    word = words[i].lower()\n",
    "    if word in patterns:\n",
    "        words[i] = patterns[word]\n",
    "print(words)\n",
    "print(\" \".join(words))"
   ]
  }
 ],
 "metadata": {
  "kernelspec": {
   "display_name": "Python 3 (ipykernel)",
   "language": "python",
   "name": "python3"
  },
  "language_info": {
   "codemirror_mode": {
    "name": "ipython",
    "version": 3
   },
   "file_extension": ".py",
   "mimetype": "text/x-python",
   "name": "python",
   "nbconvert_exporter": "python",
   "pygments_lexer": "ipython3",
   "version": "3.9.7"
  }
 },
 "nbformat": 4,
 "nbformat_minor": 5
}
